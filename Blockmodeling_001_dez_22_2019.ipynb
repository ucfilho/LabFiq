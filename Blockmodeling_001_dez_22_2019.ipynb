{
  "nbformat": 4,
  "nbformat_minor": 0,
  "metadata": {
    "colab": {
      "name": "Blockmodeling_001_dez_22_2019.ipynb",
      "provenance": [],
      "include_colab_link": true
    },
    "kernelspec": {
      "name": "python3",
      "display_name": "Python 3"
    }
  },
  "cells": [
    {
      "cell_type": "markdown",
      "metadata": {
        "id": "view-in-github",
        "colab_type": "text"
      },
      "source": [
        "<a href=\"https://colab.research.google.com/github/ucfilho/LabFiq/blob/master/Blockmodeling_001_dez_22_2019.ipynb\" target=\"_parent\"><img src=\"https://colab.research.google.com/assets/colab-badge.svg\" alt=\"Open In Colab\"/></a>"
      ]
    },
    {
      "cell_type": "markdown",
      "metadata": {
        "id": "0MpmNaCYrrp7",
        "colab_type": "text"
      },
      "source": [
        "# **Blockmodeling**"
      ]
    },
    {
      "cell_type": "markdown",
      "metadata": {
        "id": "F_oe8HVCuOqv",
        "colab_type": "text"
      },
      "source": [
        "The goal of blockmodeling is to reduce a\n",
        "large, potentially incoherent network to a\n",
        "smaller comprehensible structure that can be\n",
        "interpreted more readily. Blockmodeling,\n",
        "as an empirical procedure, is based on the\n",
        "idea that units in a network can be grouped\n",
        "according to the extent to which they are\n",
        "equivalent, according to some meaningful\n",
        "definition of equivalence (structural (Lorrain\n",
        "and White 1971), regular (White and Reitz 1983), generalized (Doreian, Batagelj,\n",
        "Ferligoj 2005).\n",
        "\n",
        "\n",
        "\n",
        "\n",
        "\n",
        "\n",
        "\n",
        "\n"
      ]
    },
    {
      "cell_type": "markdown",
      "metadata": {
        "id": "iwgqUe1mwTYF",
        "colab_type": "text"
      },
      "source": [
        "http://mrvar.fdv.uni-lj.si/sola/info4/nusa/doc/blockmodeling-2.pdf"
      ]
    },
    {
      "cell_type": "markdown",
      "metadata": {
        "id": "RYg_04WmvDBc",
        "colab_type": "text"
      },
      "source": [
        "![alt text](http://ftp.feq.ufu.br/ubirajara/blockmodeling.png)"
      ]
    },
    {
      "cell_type": "markdown",
      "metadata": {
        "id": "2JzRdw6Km6eG",
        "colab_type": "text"
      },
      "source": [
        "The goal  of blockmodeling  is to reduce  a large,  potentially  incoherent  network  to asmaller  comprehensible  structure  that  can  be  interpreted  more  readily.  **Information package R language: CRAN blockmodeling**  This package is primarily meant as an implementation of Generalized blockmodeling. In addition,\n",
        "functions for computation of (dis)similarities in terms of structural and regular equivalence, plotting\n",
        "and other \"utility\" functions are provided."
      ]
    },
    {
      "cell_type": "markdown",
      "metadata": {
        "id": "U_NOrC60qblZ",
        "colab_type": "text"
      },
      "source": [
        "https://cran.r-project.org/web/packages/blockmodeling/blockmodeling.pdf"
      ]
    },
    {
      "cell_type": "markdown",
      "metadata": {
        "id": "zNrQ9sB-knYw",
        "colab_type": "text"
      },
      "source": [
        "NetworkX is a Python language software package for the creation, manipulation, and study of the structure, dynamics, and function of complex networks. NetworkX provides data structures for graphs (or networks) along with graph algorithms, generators, and drawing tools."
      ]
    },
    {
      "cell_type": "markdown",
      "metadata": {
        "id": "mnCXOnYrkYW1",
        "colab_type": "text"
      },
      "source": [
        "https://networkx.github.io/documentation/networkx-1.10/reference/introduction.html"
      ]
    },
    {
      "cell_type": "markdown",
      "metadata": {
        "id": "x6gGZKK3lHdx",
        "colab_type": "text"
      },
      "source": [
        "NetworkX is intended to provide\n",
        "\n",
        "*   tools for the study of the structure and dynamics of social, biological, and infrastructure networks\n",
        "*   a standard programming interface and graph implementation that is suitable for many applications\n",
        "*   a rapid development environment for collaborative, multidisciplinary projects\n",
        "*  an interface to existing numerical algorithms and code written in C, C++, and FORTRAN,\n",
        "*  the ability to painlessly slurp in large nonstandard data sets."
      ]
    }
  ]
}