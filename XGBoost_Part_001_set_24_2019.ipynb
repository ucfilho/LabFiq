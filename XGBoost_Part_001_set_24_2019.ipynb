{
  "nbformat": 4,
  "nbformat_minor": 0,
  "metadata": {
    "colab": {
      "name": "XGBoost Part 001set 24 2019.ipynb",
      "provenance": [],
      "include_colab_link": true
    },
    "kernelspec": {
      "name": "python3",
      "display_name": "Python 3"
    }
  },
  "cells": [
    {
      "cell_type": "markdown",
      "metadata": {
        "id": "view-in-github",
        "colab_type": "text"
      },
      "source": [
        "<a href=\"https://colab.research.google.com/github/ucfilho/LabFiq/blob/master/XGBoost_Part_001_set_24_2019.ipynb\" target=\"_parent\"><img src=\"https://colab.research.google.com/assets/colab-badge.svg\" alt=\"Open In Colab\"/></a>"
      ]
    },
    {
      "cell_type": "markdown",
      "metadata": {
        "id": "0MpmNaCYrrp7",
        "colab_type": "text"
      },
      "source": [
        "# **XGBoost**"
      ]
    },
    {
      "cell_type": "markdown",
      "metadata": {
        "id": "U_NOrC60qblZ",
        "colab_type": "text"
      },
      "source": [
        "XGBoost is a scalable machine learning system for tree boosting. \n"
      ]
    },
    {
      "cell_type": "markdown",
      "metadata": {
        "id": "M7T-RIf-zXhL",
        "colab_type": "text"
      },
      "source": [
        "XGBoost as other boost models combines the predictions of several\n",
        "models to results in a model with improved predictive\n",
        "performance."
      ]
    },
    {
      "cell_type": "markdown",
      "metadata": {
        "id": "iwgqUe1mwTYF",
        "colab_type": "text"
      },
      "source": [
        "XGBoost (as result of work as  non-parametric model with no formal distributional assumptions) can handle skewed and multi-modal data as well as categorical data that are ordinal or non-ordinal."
      ]
    },
    {
      "cell_type": "markdown",
      "metadata": {
        "id": "F_oe8HVCuOqv",
        "colab_type": "text"
      },
      "source": [
        "ADVANTAGES \n",
        "\n",
        "1.   Can be used with a variety of response types (binomial, gaussian, poisson)\n",
        "2.   Stochastic, which improves predictive performance\n",
        "The best fit is automatically detected by the algorithm\n",
        "3. Model represents the effect of each predictor after accounting for the effects of other predictors\n",
        "4. Robust to missing values and *outliers*\n",
        "\n",
        "\n",
        "\n",
        "\n",
        "\n",
        "\n",
        "\n",
        "\n"
      ]
    },
    {
      "cell_type": "markdown",
      "metadata": {
        "id": "RYg_04WmvDBc",
        "colab_type": "text"
      },
      "source": [
        "XGBoost is available as an open source package and there’re various high-level interfaces. Currently there are interfaces of XGBoost in C++, R, Python, Julia, Java and Scala"
      ]
    },
    {
      "cell_type": "markdown",
      "metadata": {
        "id": "aiJjM2tmvK8d",
        "colab_type": "text"
      },
      "source": [
        "### REFERENCES \n",
        "1. https://support.bccvl.org.au/support/solutions/articles/6000083212-generalized-boosting-model\n",
        "2. https://arxiv.org/pdf/1603.02754.pdf  XGBoost: A Scalable Tree Boosting System\n",
        "3. http://citeseerx.ist.psu.edu/viewdoc/download?doi=10.1.1.22.276&rep=rep1&type=pdf  The State of Boosting"
      ]
    }
  ]
}